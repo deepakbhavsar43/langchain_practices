{
 "cells": [
  {
   "cell_type": "code",
   "execution_count": null,
   "metadata": {},
   "outputs": [],
   "source": [
    "from langchain.agents import initialize_agent, tool\n",
    "from langchain import Wikipedia\n",
    "from langchain_openai import AzureOpenAI\n",
    "from langchain_community.utilities import BingSearchAPIWrapper\n",
    "from dotenv import load_dotenv"
   ]
  },
  {
   "cell_type": "code",
   "execution_count": null,
   "metadata": {},
   "outputs": [],
   "source": [
    "load_dotenv()"
   ]
  },
  {
   "cell_type": "code",
   "execution_count": null,
   "metadata": {},
   "outputs": [],
   "source": [
    "@tool(\"Intermediate Answer\")\n",
    "def search(search_query: str):\n",
    "    \"\"\"\n",
    "    useful for when you need to search the internet for more information\n",
    "\n",
    "    Args:\n",
    "        search_query (str): search query string\n",
    "    \"\"\"\n",
    "    \n",
    "    search = BingSearchAPIWrapper()\n",
    "    return search.run(search_query)"
   ]
  },
  {
   "cell_type": "code",
   "execution_count": null,
   "metadata": {},
   "outputs": [],
   "source": [
    "tools = [search]\n",
    "\n",
    "llm = AzureOpenAI(\n",
    "    temperature = 0,\n",
    "    deployment_name = \"gpt-35-turbo-instruct\",\n",
    "    max_tokens = 8000\n",
    ")"
   ]
  },
  {
   "cell_type": "code",
   "execution_count": null,
   "metadata": {},
   "outputs": [],
   "source": [
    "agent = initialize_agent(\n",
    "    tools = tools,\n",
    "    llm = llm,\n",
    "    agent = \"self-ask-with-search\",\n",
    "    verbose = True,\n",
    "    handle_parsing_errors = True\n",
    ")"
   ]
  },
  {
   "cell_type": "code",
   "execution_count": null,
   "metadata": {},
   "outputs": [],
   "source": [
    "prompt = \"who was the president of USA when the sputnik satellite was launched in the history of NASA space exploration\"\n",
    "print(\n",
    "    agent.invoke(prompt)\n",
    ")"
   ]
  }
 ],
 "metadata": {
  "kernelspec": {
   "display_name": "Python 3",
   "language": "python",
   "name": "python3"
  },
  "language_info": {
   "codemirror_mode": {
    "name": "ipython",
    "version": 3
   },
   "file_extension": ".py",
   "mimetype": "text/x-python",
   "name": "python",
   "nbconvert_exporter": "python",
   "pygments_lexer": "ipython3",
   "version": "3.11.9"
  }
 },
 "nbformat": 4,
 "nbformat_minor": 2
}

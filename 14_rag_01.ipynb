{
 "cells": [
  {
   "cell_type": "code",
   "execution_count": null,
   "metadata": {},
   "outputs": [],
   "source": [
    "from langchain_community.document_loaders import WebBaseLoader\n",
    "from langchain_openai import AzureChatOpenAI, AzureOpenAIEmbeddings\n",
    "from langchain_community.vectorstores import FAISS\n",
    "from dotenv import load_dotenv\n"
   ]
  },
  {
   "cell_type": "code",
   "execution_count": null,
   "metadata": {},
   "outputs": [],
   "source": [
    "load_dotenv()"
   ]
  },
  {
   "cell_type": "code",
   "execution_count": null,
   "metadata": {},
   "outputs": [],
   "source": [
    "url = \"https://code4x.dev/courses/chat-app-using-langchain-openai-gpt-api-pinecone-vector-database/\""
   ]
  },
  {
   "cell_type": "code",
   "execution_count": null,
   "metadata": {},
   "outputs": [],
   "source": [
    "loader = WebBaseLoader(url)\n",
    "documents = loader.load()"
   ]
  },
  {
   "cell_type": "code",
   "execution_count": null,
   "metadata": {},
   "outputs": [],
   "source": [
    "from langchain.text_splitter import RecursiveCharacterTextSplitter"
   ]
  },
  {
   "cell_type": "code",
   "execution_count": null,
   "metadata": {},
   "outputs": [],
   "source": [
    "text_splitter = RecursiveCharacterTextSplitter(\n",
    "    chunk_size = 100,\n",
    "    chunk_overlap = 20,\n",
    "    length_function = len,\n",
    "    is_separator_regex = False\n",
    ")\n",
    "\n",
    "split_documents = text_splitter.split_documents(documents)"
   ]
  },
  {
   "cell_type": "code",
   "execution_count": null,
   "metadata": {},
   "outputs": [],
   "source": [
    "print(\"Totally \" + str(len(split_documents)) + \" Document(s) Found!\")"
   ]
  },
  {
   "cell_type": "code",
   "execution_count": null,
   "metadata": {},
   "outputs": [],
   "source": [
    "for document in split_documents:\n",
    "    document.page_content = document.page_content.strip().replace(\"\\n\\n\", \"\\n\")\n",
    "    \n",
    "    print(document.page_content)"
   ]
  },
  {
   "cell_type": "code",
   "execution_count": 9,
   "metadata": {},
   "outputs": [],
   "source": [
    "embeddings = AzureOpenAIEmbeddings(\n",
    "    model = \"text-embedding-ada-002\",\n",
    "    deployment = \"text-embedding-ada-002\",\n",
    "    chunk_size=1\n",
    ")"
   ]
  },
  {
   "cell_type": "code",
   "execution_count": 10,
   "metadata": {},
   "outputs": [],
   "source": [
    "vector = None"
   ]
  },
  {
   "cell_type": "code",
   "execution_count": 14,
   "metadata": {},
   "outputs": [],
   "source": [
    "for document in split_documents:\n",
    "    if(vector is None):\n",
    "        vector = FAISS.from_documents([document], embeddings)\n",
    "    else:\n",
    "        vector.add_documents([document])"
   ]
  },
  {
   "cell_type": "code",
   "execution_count": 16,
   "metadata": {},
   "outputs": [],
   "source": [
    "llm = AzureChatOpenAI(\n",
    "    temperature = 0,\n",
    "    deployment_name = \"iomega-gpt-4\"\n",
    ")"
   ]
  },
  {
   "cell_type": "code",
   "execution_count": 21,
   "metadata": {},
   "outputs": [],
   "source": [
    "from langchain.prompts import ChatPromptTemplate\n",
    "from langchain.chains.combine_documents import create_stuff_documents_chain\n",
    "from langchain.chains import create_retrieval_chain\n",
    "\n",
    "prompt = ChatPromptTemplate.from_template(\"\"\"\n",
    "Answer the following question based only on this provided context:\n",
    "\n",
    "<context>\n",
    "{context}\n",
    "</context>\n",
    "\n",
    "Question: {input}\n",
    "\"\"\")"
   ]
  },
  {
   "cell_type": "code",
   "execution_count": 22,
   "metadata": {},
   "outputs": [
    {
     "name": "stdout",
     "output_type": "stream",
     "text": [
      "Setup is Ready!\n"
     ]
    }
   ],
   "source": [
    "document_chain = create_stuff_documents_chain(llm, prompt)\n",
    "retriever = vector.as_retriever()\n",
    "retrieval_chain = create_retrieval_chain(retriever, document_chain)\n",
    "\n",
    "print(\"Setup is Ready!\")"
   ]
  },
  {
   "cell_type": "code",
   "execution_count": 24,
   "metadata": {},
   "outputs": [],
   "source": [
    "response = retrieval_chain.invoke({\n",
    "    \"context\": \"you are the trainer who is teaching the given course and you are here to suggest to potential learners\",\n",
    "    \"input\": \"what are the key takeaways for learners from this course?\"\n",
    "})"
   ]
  },
  {
   "cell_type": "code",
   "execution_count": 25,
   "metadata": {},
   "outputs": [
    {
     "name": "stdout",
     "output_type": "stream",
     "text": [
      "{'context': [Document(page_content='In this course, you will learn how...', metadata={'source': 'https://code4x.dev/courses/chat-app-using-langchain-openai-gpt-api-pinecone-vector-database/', 'title': '#1 Best Gen AI Project | LangChain OpenAi GPT Chat app Project for Begineers', 'description': 'Langchain OpenAI Project for Begineers Initiative: Bridging Language and Technology – Find Comprehensive Documentation on Our Project.', 'language': 'en-US'}), Document(page_content='[with full Code and Video Explainers]\\nBy the end of this course, you will be able to:', metadata={'source': 'https://code4x.dev/courses/chat-app-using-langchain-openai-gpt-api-pinecone-vector-database/', 'title': '#1 Best Gen AI Project | LangChain OpenAi GPT Chat app Project for Begineers', 'description': 'Langchain OpenAI Project for Begineers Initiative: Bridging Language and Technology – Find Comprehensive Documentation on Our Project.', 'language': 'en-US'}), Document(page_content='Key Components', metadata={'source': 'https://code4x.dev/courses/chat-app-using-langchain-openai-gpt-api-pinecone-vector-database/', 'title': '#1 Best Gen AI Project | LangChain OpenAi GPT Chat app Project for Begineers', 'description': 'Langchain OpenAI Project for Begineers Initiative: Bridging Language and Technology – Find Comprehensive Documentation on Our Project.', 'language': 'en-US'}), Document(page_content='Course Features\\n\\nLectures\\n\\t\\t\\t\\t\\t\\t23\\t\\t\\t\\t\\t\\n\\nQuizzes\\n\\t\\t\\t\\t\\t\\t0\\t\\t\\t\\t\\t\\t\\n\\nDuration\\n15 Days', metadata={'source': 'https://code4x.dev/courses/chat-app-using-langchain-openai-gpt-api-pinecone-vector-database/', 'title': '#1 Best Gen AI Project | LangChain OpenAi GPT Chat app Project for Begineers', 'description': 'Langchain OpenAI Project for Begineers Initiative: Bridging Language and Technology – Find Comprehensive Documentation on Our Project.', 'language': 'en-US'})], 'input': 'what are the key takeaways for learners from this course?', 'answer': \"The key takeaways for learners from this course include:\\n\\n1. **Comprehensive Understanding**: Learners will gain a thorough understanding of the subject matter through a structured learning path that includes full code examples and video explainers.\\n\\n2. **Practical Skills**: By the end of the course, learners will have developed the ability to apply what they have learned in practical scenarios, thanks to the hands-on approach of using full code examples.\\n\\n3. **Engagement with Content**: The course is designed to keep learners engaged with the content through 23 lectures. However, it's noted that there are no quizzes, which suggests that the course emphasizes learning through lectures and practical examples rather than assessments.\\n\\n4. **Short Duration**: The course is relatively short, spanning only 15 days, making it suitable for learners looking for a quick yet comprehensive learning experience.\\n\\n5. **No Assessments**: The absence of quizzes indicates that the course may focus more on imparting knowledge and skills rather than evaluating the learners' understanding through tests. This could be beneficial for learners who prefer a less pressured learning environment.\\n\\nIn summary, learners can expect to come away from this course with a solid understanding of the subject, practical skills they can apply, and a quick but thorough learning experience.\"}\n"
     ]
    }
   ],
   "source": [
    "print(response)"
   ]
  }
 ],
 "metadata": {
  "kernelspec": {
   "display_name": "Python 3",
   "language": "python",
   "name": "python3"
  },
  "language_info": {
   "codemirror_mode": {
    "name": "ipython",
    "version": 3
   },
   "file_extension": ".py",
   "mimetype": "text/x-python",
   "name": "python",
   "nbconvert_exporter": "python",
   "pygments_lexer": "ipython3",
   "version": "3.11.9"
  }
 },
 "nbformat": 4,
 "nbformat_minor": 2
}
